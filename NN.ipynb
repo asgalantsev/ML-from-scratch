{
 "cells": [
  {
   "cell_type": "code",
   "execution_count": 74,
   "metadata": {},
   "outputs": [],
   "source": [
    "import numpy\n",
    "import scipy.special\n",
    "import scipy.ndimage"
   ]
  },
  {
   "cell_type": "code",
   "execution_count": 46,
   "metadata": {},
   "outputs": [],
   "source": [
    "class neuralNetwork:\n",
    "    \n",
    "    # Инициализация нейронной сети\n",
    "    def __init__(self, inputnodes, hiddennodes, outputnodes, learningrate):\n",
    "        \n",
    "        self.inodes = inputnodes\n",
    "        self.hnodes = hiddennodes\n",
    "        self.onodes = outputnodes\n",
    "        \n",
    "        self.lr = learningrate\n",
    "        \n",
    "        # Матрицы вес. коэф. wih и who\n",
    "#         self.wih = (numpy.random.rand(self.hnodes, self.inodes) - 0.5)\n",
    "#         self.who = (numpy.random.rand(self.onodes, self.hnodes) - 0.5)\n",
    "        \n",
    "        # Другой вариант: заполнение весов через нормлаьное распределение\n",
    "        self.wih = numpy.random.normal(0.0, pow(self.hnodes, -0.5), (self.hnodes, self.inodes))\n",
    "        self.who = numpy.random.normal(0.0, pow(self.onodes, -0.5), (self.onodes, self.hnodes))\n",
    "        \n",
    "        # Использование сигмоиды в качестве функции активации\n",
    "        self.activation_function = lambda x: scipy.special.expit(x)\n",
    "        \n",
    "        pass\n",
    "    \n",
    "    # Тренировка нейронной сети\n",
    "    def train(self, inputs_list, targets_list):\n",
    "        # Преобразовать список входных значений в двумерный массив\n",
    "        inputs = numpy.array(inputs_list, ndmin=2).T\n",
    "        targets = numpy.array(targets_list, ndmin=2).T\n",
    "        \n",
    "        # Рассчитать входящие сигналы для скрытого слоя\n",
    "        hidden_inputs = numpy.dot(self.wih, inputs)\n",
    "        # Рассчитать исходящие сигналы для скрытого слоя\n",
    "        hidden_outputs = self.activation_function(hidden_inputs)\n",
    "        \n",
    "        # Рассчитать входящие сигналы для скрытого слоя\n",
    "        final_inputs = numpy.dot(self.who, hidden_outputs)\n",
    "        # Рассчитать исходящие сигналы для скрытого слоя\n",
    "        final_outputs = self.activation_function(final_inputs)\n",
    "        \n",
    "        # Расчет ошибки\n",
    "        output_errors = targets - final_outputs\n",
    "        \n",
    "        # Ошибки скрытого слоя - это ошибки output_errors,\n",
    "        # Распределение пропорционально весовым коэффициентам связей\n",
    "        # И рекомбинированные на скрытх узлах\n",
    "        hidden_errors = numpy.dot(self.who.T, output_errors)\n",
    "        \n",
    "        # Обновить весовые коэффициенты между скрытым и выходным слоем\n",
    "        self.who += self.lr * numpy.dot((output_errors * final_outputs * (1.0 - final_outputs)), numpy.transpose(hidden_outputs))\n",
    "        # Обновить весовые коэффициенты между входным и скрытым слоем\n",
    "        self.wih += self.lr * numpy.dot((hidden_errors * hidden_outputs * (1.0 - hidden_outputs)), numpy.transpose(inputs))\n",
    "        \n",
    "        pass\n",
    "    \n",
    "    # Опрос нейронной сети\n",
    "    def query(self, inputs_list):\n",
    "        # Преобразовать список входных значений в двумерный массив\n",
    "        inputs = numpy.array(inputs_list, ndmin=2).T\n",
    "        \n",
    "        # Расчет входящих сигналов для скрытого слоя\n",
    "        hidden_inputs = numpy.dot(self.wih, inputs)\n",
    "        # Расчет исходящих сигналов для скрытого слоя\n",
    "        hidden_outputs = self.activation_function(hidden_inputs)\n",
    "        \n",
    "        # Расчет входящих сигналов для выходного слоя\n",
    "        final_inputs = numpy.dot(self.who, hidden_outputs)\n",
    "        # Расчет исходящих сигналов для выходного слоя\n",
    "        final_outputs = self.activation_function(final_inputs)\n",
    "        \n",
    "        return final_outputs"
   ]
  },
  {
   "cell_type": "code",
   "execution_count": 86,
   "metadata": {},
   "outputs": [],
   "source": [
    "# количество входных, скрытых и выходных узлов \n",
    "input_nodes = 784\n",
    "hidden_nodes = 200\n",
    "output_nodes = 10\n",
    "\n",
    "# коэффициент обучения\n",
    "learning_rate = 0.01\n",
    "\n",
    "# создать экземпляр нейронной сети\n",
    "n = neuralNetwork(input_nodes,hidden_nodes,output_nodes,learning_rate)"
   ]
  },
  {
   "cell_type": "code",
   "execution_count": 87,
   "metadata": {},
   "outputs": [],
   "source": [
    "# загрузить в список тренировочный набор данных CSV-файла набора MNIST \n",
    "training_data_file = open('mnist_dataset/mnist_train.csv', 'r') \n",
    "training_data_list = training_data_file.readlines() \n",
    "training_data_file.close()\n",
    "\n",
    "# загрузить в список тестовый набор данных CSV-файла набора MNIST\n",
    "test_data_file = open(\"mnist_dataset/mnist_test.csv\", \"r\")\n",
    "test_data_list = test_data_file.readlines()\n",
    "test_data_file.close()"
   ]
  },
  {
   "cell_type": "markdown",
   "metadata": {},
   "source": [
    "## Тренировка нейронной сети"
   ]
  },
  {
   "cell_type": "code",
   "execution_count": null,
   "metadata": {},
   "outputs": [],
   "source": [
    "# переменная epochs указывает, сколько раз тренировочный набор \n",
    "# данных используется для тренировки сети\n",
    "epochs = 10\n",
    "\n",
    "for e in range(epochs):\n",
    "\n",
    "    # перебрать все записи в тренировочном наборе данных \n",
    "    for record in training_data_list:\n",
    "        # получить список значений, используя символы запятой (1,1)\n",
    "        # в качестве разделителей \n",
    "        all_values = record.split(',')\n",
    "        # масштабировать и сместить входные значения\n",
    "        inputs = (numpy.asfarray(all_values[1:]) / 255.0 * 0.99) + 0.01\n",
    "        # создать целевые выходные значения (все равны 0,01, за исключением\n",
    "        # желаемого маркерного значения, равного 0,99) \n",
    "        targets = numpy.zeros(output_nodes) + 0.01\n",
    "\n",
    "        # all_values[0] - целевое маркерное значение для данной записи \n",
    "        targets[int(all_values[0])] =0.99\n",
    "        n.train(inputs, targets) \n",
    "        \n",
    "        pass\n",
    "    \n",
    "    pass"
   ]
  },
  {
   "cell_type": "markdown",
   "metadata": {},
   "source": [
    "## Тестирование нейронной сети"
   ]
  },
  {
   "cell_type": "code",
   "execution_count": null,
   "metadata": {},
   "outputs": [],
   "source": [
    "# Журнал оцено работы сети, первоначально пустой\n",
    "scorecard = []\n",
    "\n",
    "# Перебрать все записи в тесовом наборе\n",
    "for record in test_data_list:\n",
    "    # получить список значений, используя символы запятой (1,1)\n",
    "    # в качестве разделителей \n",
    "    all_values = record.split(',')\n",
    "    \n",
    "    # правильный ответ - первое значение\n",
    "    correct_label = int(all_values[0])\n",
    "    \n",
    "    # масштабировать и сместить входные значения\n",
    "    inputs = (numpy.asfarray(all_values[1:]) / 255.0 * 0.99) + 0.01\n",
    "    # опрос сети\n",
    "    outputs = n.query(inputs)\n",
    "    # индекс наиб. значения является маркерным значения\n",
    "    label = numpy.argmax(outputs)\n",
    "    \n",
    "    # присоединить оценку ответа сети к концу спсика\n",
    "    if (label == correct_label):\n",
    "        scorecard.append(1)\n",
    "    else:\n",
    "        scorecard.append(0)\n",
    "        pass\n",
    "    pass\n",
    "\n"
   ]
  },
  {
   "cell_type": "code",
   "execution_count": null,
   "metadata": {},
   "outputs": [],
   "source": [
    "# рассчитать показатель эффективности доли правильных ответов\n",
    "scorecard_array = numpy.asarray(scorecard)\n",
    "print(\"эффективность = \", scorecard_array.sum() / scorecard_array.size)"
   ]
  },
  {
   "cell_type": "code",
   "execution_count": null,
   "metadata": {},
   "outputs": [],
   "source": [
    "scipy.nd"
   ]
  }
 ],
 "metadata": {
  "kernelspec": {
   "display_name": "Python 3",
   "language": "python",
   "name": "python3"
  },
  "language_info": {
   "codemirror_mode": {
    "name": "ipython",
    "version": 3
   },
   "file_extension": ".py",
   "mimetype": "text/x-python",
   "name": "python",
   "nbconvert_exporter": "python",
   "pygments_lexer": "ipython3",
   "version": "3.7.3"
  }
 },
 "nbformat": 4,
 "nbformat_minor": 2
}
